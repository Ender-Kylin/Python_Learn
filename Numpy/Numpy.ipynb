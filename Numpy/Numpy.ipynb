{
 "cells": [
  {
   "cell_type": "markdown",
   "id": "c047943ca424dd5e",
   "metadata": {},
   "source": [
    "# 导入库"
   ]
  },
  {
   "cell_type": "code",
   "id": "4ad98519",
   "metadata": {
    "ExecuteTime": {
     "end_time": "2025-05-14T23:51:05.761726Z",
     "start_time": "2025-05-14T23:51:05.742216Z"
    }
   },
   "source": [
    "import numpy as np"
   ],
   "outputs": [],
   "execution_count": 5
  },
  {
   "cell_type": "markdown",
   "id": "f60a63e5",
   "metadata": {},
   "source": [
    "### 数组的创建和输出"
   ]
  },
  {
   "cell_type": "code",
   "id": "22e711ce",
   "metadata": {
    "ExecuteTime": {
     "end_time": "2025-05-14T23:51:05.872919Z",
     "start_time": "2025-05-14T23:51:05.847666Z"
    }
   },
   "source": [
    "a = np.array([1, 2, 3])      #一维数组的创建\n",
    "b = np.array([[1,2], [3,4]])   #二位数组的创建\n",
    "c = np.array([1,2,3], dtype=float)  #指定数据类型的创建"
   ],
   "outputs": [],
   "execution_count": 6
  },
  {
   "cell_type": "markdown",
   "id": "c7930379",
   "metadata": {},
   "source": [
    "#### 打印数组"
   ]
  },
  {
   "cell_type": "code",
   "id": "35d50f54",
   "metadata": {
    "ExecuteTime": {
     "end_time": "2025-05-14T23:51:06.026313Z",
     "start_time": "2025-05-14T23:51:06.001221Z"
    }
   },
   "source": [
    "print(a)\n",
    "print(b)\n",
    "print(c)"
   ],
   "outputs": [
    {
     "name": "stdout",
     "output_type": "stream",
     "text": [
      "[1 2 3]\n",
      "[[1 2]\n",
      " [3 4]]\n",
      "[1. 2. 3.]\n"
     ]
    }
   ],
   "execution_count": 7
  },
  {
   "cell_type": "markdown",
   "id": "f4b6389d",
   "metadata": {},
   "source": [
    "### 数据类型"
   ]
  },
  {
   "cell_type": "code",
   "id": "9264f135",
   "metadata": {
    "ExecuteTime": {
     "end_time": "2025-05-14T23:51:06.578618Z",
     "start_time": "2025-05-14T23:51:06.564391Z"
    }
   },
   "source": [
    "strings = np.array(['Hello', 'World', 'Python'])\n",
    "print(strings)\n",
    "\n",
    "number = np.array([1, 2, 3] ,dtype=str)    #通过dtype将数组中原本的int行转化为字符串形存储\n",
    "print(type(number[0]))"
   ],
   "outputs": [
    {
     "name": "stdout",
     "output_type": "stream",
     "text": [
      "['Hello' 'World' 'Python']\n",
      "<class 'numpy.str_'>\n"
     ]
    }
   ],
   "execution_count": 8
  },
  {
   "cell_type": "markdown",
   "id": "f0591bdf",
   "metadata": {},
   "source": [
    "### 数组的属性"
   ]
  },
  {
   "cell_type": "code",
   "id": "f6e70816",
   "metadata": {
    "ExecuteTime": {
     "end_time": "2025-05-14T23:51:06.716633Z",
     "start_time": "2025-05-14T23:51:06.708553Z"
    }
   },
   "source": [
    "a = np.array([1, 2, 3], dtype=float)\n",
    "\n",
    "print(\"a ndim:\",a.ndim)\n",
    "print(\"a shape\",a.shape)\n",
    "print(\"a size\",a.size)\n",
    "print(\"a dtype\",a.dtype)\n",
    "print(\"a itemsize:\",a.itemsize,\"bytes\")\n",
    "print(\"a nbytes:\",a.nbytes,\"bytes\")\n",
    "print(\"a flags:\",a.flags)"
   ],
   "outputs": [
    {
     "name": "stdout",
     "output_type": "stream",
     "text": [
      "a ndim: 1\n",
      "a shape (3,)\n",
      "a size 3\n",
      "a dtype float64\n",
      "a itemsize: 8 bytes\n",
      "a nbytes: 24 bytes\n",
      "a flags:   C_CONTIGUOUS : True\n",
      "  F_CONTIGUOUS : True\n",
      "  OWNDATA : True\n",
      "  WRITEABLE : True\n",
      "  ALIGNED : True\n",
      "  WRITEBACKIFCOPY : False\n",
      "\n"
     ]
    }
   ],
   "execution_count": 9
  },
  {
   "cell_type": "markdown",
   "id": "1e6eb7ae",
   "metadata": {},
   "source": [
    "数组的维度                  ndim  \n",
    "数组的每个维度大小           shape    \n",
    "数组的元素个数               size = ndim * shape"
   ]
  },
  {
   "cell_type": "markdown",
   "id": "50cbb008",
   "metadata": {},
   "source": [
    "#### 复述的输出"
   ]
  },
  {
   "cell_type": "code",
   "id": "7557ce38",
   "metadata": {
    "ExecuteTime": {
     "end_time": "2025-05-14T23:51:06.841137Z",
     "start_time": "2025-05-14T23:51:06.834016Z"
    }
   },
   "source": [
    "a = np.array([complex(2, 4), complex(3, 5)])\n",
    "print(a.real)            #输出a的实部\n",
    "print(a.imag)            #输出a的虚部"
   ],
   "outputs": [
    {
     "name": "stdout",
     "output_type": "stream",
     "text": [
      "[2. 3.]\n",
      "[4. 5.]\n"
     ]
    }
   ],
   "execution_count": 10
  },
  {
   "cell_type": "markdown",
   "id": "922a13b9",
   "metadata": {},
   "source": [
    "### 数据类型的转化"
   ]
  },
  {
   "cell_type": "code",
   "id": "1267b458",
   "metadata": {
    "ExecuteTime": {
     "end_time": "2025-05-14T23:51:07.061365Z",
     "start_time": "2025-05-14T23:51:07.047163Z"
    }
   },
   "source": [
    "a = np.array([1, 2, 3],dtype=np.int16)\n",
    "print(a.dtype)\n",
    "print(a)\n",
    "b = a.astype(np.float64)\n",
    "print(b.dtype)\n",
    "print(b)"
   ],
   "outputs": [
    {
     "name": "stdout",
     "output_type": "stream",
     "text": [
      "int16\n",
      "[1 2 3]\n",
      "float64\n",
      "[1. 2. 3.]\n"
     ]
    }
   ],
   "execution_count": 11
  },
  {
   "cell_type": "markdown",
   "id": "11dd4b2a",
   "metadata": {},
   "source": [
    "### 快速创建数组"
   ]
  },
  {
   "cell_type": "markdown",
   "id": "1cabd2a4",
   "metadata": {},
   "source": [
    "#### 用0/1填充"
   ]
  },
  {
   "cell_type": "code",
   "id": "215b30f7",
   "metadata": {
    "ExecuteTime": {
     "end_time": "2025-05-14T23:51:07.279373Z",
     "start_time": "2025-05-14T23:51:07.262776Z"
    }
   },
   "source": [
    "a = np.zeros((2,3), dtype = np.float64)      #二行三列\n",
    "print(a)\n",
    "\n",
    "\n",
    "a = np.ones((4,4), dtype = np.float64)  \n",
    "print(a)"
   ],
   "outputs": [
    {
     "name": "stdout",
     "output_type": "stream",
     "text": [
      "[[0. 0. 0.]\n",
      " [0. 0. 0.]]\n",
      "[[1. 1. 1. 1.]\n",
      " [1. 1. 1. 1.]\n",
      " [1. 1. 1. 1.]\n",
      " [1. 1. 1. 1.]]\n"
     ]
    }
   ],
   "execution_count": 12
  },
  {
   "cell_type": "markdown",
   "id": "4faf4711",
   "metadata": {},
   "source": [
    "#### 创建单位矩阵"
   ]
  },
  {
   "cell_type": "code",
   "id": "4e735e87",
   "metadata": {
    "ExecuteTime": {
     "end_time": "2025-05-14T23:51:07.421074Z",
     "start_time": "2025-05-14T23:51:07.405689Z"
    }
   },
   "source": [
    "print(np.eye(3))"
   ],
   "outputs": [
    {
     "name": "stdout",
     "output_type": "stream",
     "text": [
      "[[1. 0. 0.]\n",
      " [0. 1. 0.]\n",
      " [0. 0. 1.]]\n"
     ]
    }
   ],
   "execution_count": 13
  },
  {
   "cell_type": "markdown",
   "id": "82d6b9d3",
   "metadata": {},
   "source": [
    "#### 创建随机数组"
   ]
  },
  {
   "cell_type": "code",
   "id": "85e9fc66",
   "metadata": {
    "ExecuteTime": {
     "end_time": "2025-05-14T23:51:07.562222Z",
     "start_time": "2025-05-14T23:51:07.535077Z"
    }
   },
   "source": [
    "print(np.random.rand(2,3))   #创建二行三列的，样本位于[0,1)的数组\n",
    "print(np.random.randint(1,10,size=(2,3)))   #创建二行三列的，样本位于[1,10)的数组\n",
    "print(np.random.randn(2,3))   #创建二行三列的，样本位于标准正态分布的数组"
   ],
   "outputs": [
    {
     "name": "stdout",
     "output_type": "stream",
     "text": [
      "[[0.2294677  0.33682736 0.76354695]\n",
      " [0.50598946 0.70683018 0.14299306]]\n",
      "[[5 9 9]\n",
      " [8 3 2]]\n",
      "[[ 1.17753835 -0.16992359  1.09039837]\n",
      " [ 0.41140873 -0.32093429  1.01442135]]\n"
     ]
    }
   ],
   "execution_count": 14
  },
  {
   "cell_type": "markdown",
   "id": "350f47e6",
   "metadata": {},
   "source": [
    "#### 从指定数值范围创建"
   ]
  },
  {
   "cell_type": "code",
   "id": "504112a1",
   "metadata": {
    "ExecuteTime": {
     "end_time": "2025-05-14T23:51:07.687163Z",
     "start_time": "2025-05-14T23:51:07.671773Z"
    }
   },
   "source": [
    "x = np.arange(start=0, stop=10, step=1)\n",
    "print(x)\n",
    "#创建从0开始，到10结束，步长为1的数组。注：不包含stop的值。"
   ],
   "outputs": [
    {
     "name": "stdout",
     "output_type": "stream",
     "text": [
      "[0 1 2 3 4 5 6 7 8 9]\n"
     ]
    }
   ],
   "execution_count": 15
  },
  {
   "cell_type": "code",
   "id": "97e15515",
   "metadata": {
    "ExecuteTime": {
     "end_time": "2025-05-14T23:51:07.953046Z",
     "start_time": "2025-05-14T23:51:07.938940Z"
    }
   },
   "source": [
    "print(np.linspace(1, 10, 5))    #1-10之间的等差数列，5个元素"
   ],
   "outputs": [
    {
     "name": "stdout",
     "output_type": "stream",
     "text": [
      "[ 1.    3.25  5.5   7.75 10.  ]\n"
     ]
    }
   ],
   "execution_count": 16
  },
  {
   "cell_type": "markdown",
   "id": "c523f875",
   "metadata": {},
   "source": []
  }
 ],
 "metadata": {
  "kernelspec": {
   "display_name": "Python 3",
   "language": "python",
   "name": "python3"
  },
  "language_info": {
   "codemirror_mode": {
    "name": "ipython",
    "version": 3
   },
   "file_extension": ".py",
   "mimetype": "text/x-python",
   "name": "python",
   "nbconvert_exporter": "python",
   "pygments_lexer": "ipython3",
   "version": "3.10.16"
  }
 },
 "nbformat": 4,
 "nbformat_minor": 5
}
